{
 "cells": [
  {
   "cell_type": "markdown",
   "id": "c557d78c",
   "metadata": {},
   "source": []
  }
 ],
 "metadata": {
  "language_info": {
   "name": "python"
  }
 },
 "nbformat": 4,
 "nbformat_minor": 5
}
